{
 "cells": [
  {
   "cell_type": "code",
   "execution_count": 1,
   "id": "8e805068",
   "metadata": {},
   "outputs": [],
   "source": [
    "%load_ext autoreload\n",
    "%autoreload 2\n",
    "\n",
    "import fc26_api as fc26\n",
    "import pandas as pd"
   ]
  },
  {
   "cell_type": "code",
   "execution_count": 18,
   "id": "d89fb332",
   "metadata": {},
   "outputs": [],
   "source": [
    "club_search = fc26.search_club_by_name(\"sons of h\")"
   ]
  },
  {
   "cell_type": "code",
   "execution_count": 19,
   "id": "10551b96",
   "metadata": {},
   "outputs": [
    {
     "data": {
      "application/vnd.microsoft.datawrangler.viewer.v0+json": {
       "columns": [
        {
         "name": "index",
         "rawType": "int64",
         "type": "integer"
        },
        {
         "name": "clubId",
         "rawType": "object",
         "type": "string"
        },
        {
         "name": "wins",
         "rawType": "object",
         "type": "string"
        },
        {
         "name": "losses",
         "rawType": "object",
         "type": "string"
        },
        {
         "name": "ties",
         "rawType": "object",
         "type": "string"
        },
        {
         "name": "gamesPlayed",
         "rawType": "object",
         "type": "string"
        },
        {
         "name": "gamesPlayedPlayoff",
         "rawType": "object",
         "type": "string"
        },
        {
         "name": "goals",
         "rawType": "object",
         "type": "string"
        },
        {
         "name": "goalsAgainst",
         "rawType": "object",
         "type": "string"
        },
        {
         "name": "cleanSheets",
         "rawType": "object",
         "type": "string"
        },
        {
         "name": "points",
         "rawType": "object",
         "type": "string"
        },
        {
         "name": "reputationtier",
         "rawType": "object",
         "type": "string"
        },
        {
         "name": "promotions",
         "rawType": "object",
         "type": "string"
        },
        {
         "name": "relegations",
         "rawType": "object",
         "type": "string"
        },
        {
         "name": "bestDivision",
         "rawType": "object",
         "type": "string"
        },
        {
         "name": "platform",
         "rawType": "object",
         "type": "string"
        },
        {
         "name": "clubName",
         "rawType": "object",
         "type": "string"
        },
        {
         "name": "currentDivision",
         "rawType": "object",
         "type": "string"
        },
        {
         "name": "clubInfoname",
         "rawType": "object",
         "type": "string"
        },
        {
         "name": "clubInfoclubId",
         "rawType": "int64",
         "type": "integer"
        },
        {
         "name": "clubInforegionId",
         "rawType": "int64",
         "type": "integer"
        },
        {
         "name": "clubInfoteamId",
         "rawType": "int64",
         "type": "integer"
        },
        {
         "name": "clubInfocustomKit.stadName",
         "rawType": "object",
         "type": "string"
        },
        {
         "name": "clubInfocustomKit.kitId",
         "rawType": "object",
         "type": "string"
        },
        {
         "name": "clubInfocustomKit.seasonalTeamId",
         "rawType": "object",
         "type": "string"
        },
        {
         "name": "clubInfocustomKit.seasonalKitId",
         "rawType": "object",
         "type": "string"
        },
        {
         "name": "clubInfocustomKit.selectedKitType",
         "rawType": "object",
         "type": "string"
        },
        {
         "name": "clubInfocustomKit.customKitId",
         "rawType": "object",
         "type": "string"
        },
        {
         "name": "clubInfocustomKit.customAwayKitId",
         "rawType": "object",
         "type": "string"
        },
        {
         "name": "clubInfocustomKit.customThirdKitId",
         "rawType": "object",
         "type": "string"
        },
        {
         "name": "clubInfocustomKit.customKeeperKitId",
         "rawType": "object",
         "type": "string"
        },
        {
         "name": "clubInfocustomKit.kitColor1",
         "rawType": "object",
         "type": "string"
        },
        {
         "name": "clubInfocustomKit.kitColor2",
         "rawType": "object",
         "type": "string"
        },
        {
         "name": "clubInfocustomKit.kitColor3",
         "rawType": "object",
         "type": "string"
        },
        {
         "name": "clubInfocustomKit.kitColor4",
         "rawType": "object",
         "type": "string"
        },
        {
         "name": "clubInfocustomKit.kitAColor1",
         "rawType": "object",
         "type": "string"
        },
        {
         "name": "clubInfocustomKit.kitAColor2",
         "rawType": "object",
         "type": "string"
        },
        {
         "name": "clubInfocustomKit.kitAColor3",
         "rawType": "object",
         "type": "string"
        },
        {
         "name": "clubInfocustomKit.kitAColor4",
         "rawType": "object",
         "type": "string"
        },
        {
         "name": "clubInfocustomKit.kitThrdColor1",
         "rawType": "object",
         "type": "string"
        },
        {
         "name": "clubInfocustomKit.kitThrdColor2",
         "rawType": "object",
         "type": "string"
        },
        {
         "name": "clubInfocustomKit.kitThrdColor3",
         "rawType": "object",
         "type": "string"
        },
        {
         "name": "clubInfocustomKit.kitThrdColor4",
         "rawType": "object",
         "type": "string"
        },
        {
         "name": "clubInfocustomKit.dCustomKit",
         "rawType": "object",
         "type": "string"
        },
        {
         "name": "clubInfocustomKit.crestColor",
         "rawType": "object",
         "type": "string"
        },
        {
         "name": "clubInfocustomKit.crestAssetId",
         "rawType": "object",
         "type": "string"
        }
       ],
       "ref": "1da321bd-23c8-4b3a-88fb-2d78701bbe77",
       "rows": [
        [
         "0",
         "836266",
         "1",
         "2",
         "1",
         "4",
         "0",
         "7",
         "13",
         "0",
         "4",
         "0",
         "0",
         "0",
         "6",
         "common-gen5",
         "Sons of Hamburg",
         "6",
         "Sons of Hamburg",
         "836266",
         "5719381",
         "1799",
         "Holstein-Stadion",
         "14737411",
         "131397",
         "1076404224",
         "0",
         "7509",
         "7509",
         "7511",
         "5005",
         "15921906",
         "592397",
         "592397",
         "592397",
         "592397",
         "15921906",
         "15921906",
         "15921906",
         "12706617",
         "33627",
         "396864",
         "2164288",
         "0",
         "-1",
         "99160329"
        ],
        [
         "1",
         "647986",
         "3",
         "5",
         "2",
         "10",
         "0",
         "17",
         "36",
         "1",
         "7",
         "0",
         "1",
         "0",
         "5",
         "common-gen5",
         "Sons of Hawma",
         "5",
         "Sons of Hawma",
         "647986",
         "4344147",
         "241",
         "Tier 1 Stadium",
         "1974272",
         "131397",
         "1076404224",
         "1",
         "7601",
         "7630",
         "7511",
         "5005",
         "22436",
         "16696614",
         "15921906",
         "16696614",
         "1336871",
         "15921906",
         "14358546",
         "14358546",
         "12706617",
         "33627",
         "396864",
         "2164288",
         "0",
         "1987272",
         "99160405"
        ],
        [
         "2",
         "170852",
         "57",
         "27",
         "9",
         "93",
         "0",
         "363",
         "245",
         "11",
         "90",
         "0",
         "5",
         "1",
         "2",
         "common-gen5",
         "Sons of Hell",
         "2",
         "Sons of Hell",
         "170852",
         "4539733",
         "11",
         "MATRADE Loftus Road Stadium",
         "90112",
         "131397",
         "1076404224",
         "0",
         "7509",
         "7509",
         "7511",
         "5005",
         "15921906",
         "592397",
         "592397",
         "592397",
         "592397",
         "15921906",
         "15921906",
         "15921906",
         "12706617",
         "33627",
         "396864",
         "2164288",
         "0",
         "-1",
         "99160504"
        ],
        [
         "3",
         "783234",
         "62",
         "95",
         "19",
         "176",
         "0",
         "329",
         "469",
         "22",
         "82",
         "0",
         "7",
         "5",
         "3",
         "common-gen5",
         "sons of hndrx",
         "4",
         "sons of hndrx",
         "783234",
         "5723475",
         "1337",
         "Tier 1 Stadium",
         "10952704",
         "131397",
         "1076404224",
         "0",
         "7851",
         "7636",
         "7522",
         "5005",
         "22436",
         "8237531",
         "14277081",
         "7122142",
         "2510903",
         "15921906",
         "7719080",
         "1841428",
         "9838384",
         "1841428",
         "22436",
         "2164288",
         "0",
         "13574250",
         "99161005"
        ]
       ],
       "shape": {
        "columns": 45,
        "rows": 4
       }
      },
      "text/html": [
       "<div>\n",
       "<style scoped>\n",
       "    .dataframe tbody tr th:only-of-type {\n",
       "        vertical-align: middle;\n",
       "    }\n",
       "\n",
       "    .dataframe tbody tr th {\n",
       "        vertical-align: top;\n",
       "    }\n",
       "\n",
       "    .dataframe thead th {\n",
       "        text-align: right;\n",
       "    }\n",
       "</style>\n",
       "<table border=\"1\" class=\"dataframe\">\n",
       "  <thead>\n",
       "    <tr style=\"text-align: right;\">\n",
       "      <th></th>\n",
       "      <th>clubId</th>\n",
       "      <th>wins</th>\n",
       "      <th>losses</th>\n",
       "      <th>ties</th>\n",
       "      <th>gamesPlayed</th>\n",
       "      <th>gamesPlayedPlayoff</th>\n",
       "      <th>goals</th>\n",
       "      <th>goalsAgainst</th>\n",
       "      <th>cleanSheets</th>\n",
       "      <th>points</th>\n",
       "      <th>...</th>\n",
       "      <th>clubInfocustomKit.kitAColor2</th>\n",
       "      <th>clubInfocustomKit.kitAColor3</th>\n",
       "      <th>clubInfocustomKit.kitAColor4</th>\n",
       "      <th>clubInfocustomKit.kitThrdColor1</th>\n",
       "      <th>clubInfocustomKit.kitThrdColor2</th>\n",
       "      <th>clubInfocustomKit.kitThrdColor3</th>\n",
       "      <th>clubInfocustomKit.kitThrdColor4</th>\n",
       "      <th>clubInfocustomKit.dCustomKit</th>\n",
       "      <th>clubInfocustomKit.crestColor</th>\n",
       "      <th>clubInfocustomKit.crestAssetId</th>\n",
       "    </tr>\n",
       "  </thead>\n",
       "  <tbody>\n",
       "    <tr>\n",
       "      <th>0</th>\n",
       "      <td>836266</td>\n",
       "      <td>1</td>\n",
       "      <td>2</td>\n",
       "      <td>1</td>\n",
       "      <td>4</td>\n",
       "      <td>0</td>\n",
       "      <td>7</td>\n",
       "      <td>13</td>\n",
       "      <td>0</td>\n",
       "      <td>4</td>\n",
       "      <td>...</td>\n",
       "      <td>15921906</td>\n",
       "      <td>15921906</td>\n",
       "      <td>15921906</td>\n",
       "      <td>12706617</td>\n",
       "      <td>33627</td>\n",
       "      <td>396864</td>\n",
       "      <td>2164288</td>\n",
       "      <td>0</td>\n",
       "      <td>-1</td>\n",
       "      <td>99160329</td>\n",
       "    </tr>\n",
       "    <tr>\n",
       "      <th>1</th>\n",
       "      <td>647986</td>\n",
       "      <td>3</td>\n",
       "      <td>5</td>\n",
       "      <td>2</td>\n",
       "      <td>10</td>\n",
       "      <td>0</td>\n",
       "      <td>17</td>\n",
       "      <td>36</td>\n",
       "      <td>1</td>\n",
       "      <td>7</td>\n",
       "      <td>...</td>\n",
       "      <td>15921906</td>\n",
       "      <td>14358546</td>\n",
       "      <td>14358546</td>\n",
       "      <td>12706617</td>\n",
       "      <td>33627</td>\n",
       "      <td>396864</td>\n",
       "      <td>2164288</td>\n",
       "      <td>0</td>\n",
       "      <td>1987272</td>\n",
       "      <td>99160405</td>\n",
       "    </tr>\n",
       "    <tr>\n",
       "      <th>2</th>\n",
       "      <td>170852</td>\n",
       "      <td>57</td>\n",
       "      <td>27</td>\n",
       "      <td>9</td>\n",
       "      <td>93</td>\n",
       "      <td>0</td>\n",
       "      <td>363</td>\n",
       "      <td>245</td>\n",
       "      <td>11</td>\n",
       "      <td>90</td>\n",
       "      <td>...</td>\n",
       "      <td>15921906</td>\n",
       "      <td>15921906</td>\n",
       "      <td>15921906</td>\n",
       "      <td>12706617</td>\n",
       "      <td>33627</td>\n",
       "      <td>396864</td>\n",
       "      <td>2164288</td>\n",
       "      <td>0</td>\n",
       "      <td>-1</td>\n",
       "      <td>99160504</td>\n",
       "    </tr>\n",
       "    <tr>\n",
       "      <th>3</th>\n",
       "      <td>783234</td>\n",
       "      <td>62</td>\n",
       "      <td>95</td>\n",
       "      <td>19</td>\n",
       "      <td>176</td>\n",
       "      <td>0</td>\n",
       "      <td>329</td>\n",
       "      <td>469</td>\n",
       "      <td>22</td>\n",
       "      <td>82</td>\n",
       "      <td>...</td>\n",
       "      <td>15921906</td>\n",
       "      <td>7719080</td>\n",
       "      <td>1841428</td>\n",
       "      <td>9838384</td>\n",
       "      <td>1841428</td>\n",
       "      <td>22436</td>\n",
       "      <td>2164288</td>\n",
       "      <td>0</td>\n",
       "      <td>13574250</td>\n",
       "      <td>99161005</td>\n",
       "    </tr>\n",
       "  </tbody>\n",
       "</table>\n",
       "<p>4 rows × 45 columns</p>\n",
       "</div>"
      ],
      "text/plain": [
       "   clubId wins losses ties gamesPlayed gamesPlayedPlayoff goals goalsAgainst  \\\n",
       "0  836266    1      2    1           4                  0     7           13   \n",
       "1  647986    3      5    2          10                  0    17           36   \n",
       "2  170852   57     27    9          93                  0   363          245   \n",
       "3  783234   62     95   19         176                  0   329          469   \n",
       "\n",
       "  cleanSheets points  ... clubInfocustomKit.kitAColor2  \\\n",
       "0           0      4  ...                     15921906   \n",
       "1           1      7  ...                     15921906   \n",
       "2          11     90  ...                     15921906   \n",
       "3          22     82  ...                     15921906   \n",
       "\n",
       "  clubInfocustomKit.kitAColor3 clubInfocustomKit.kitAColor4  \\\n",
       "0                     15921906                     15921906   \n",
       "1                     14358546                     14358546   \n",
       "2                     15921906                     15921906   \n",
       "3                      7719080                      1841428   \n",
       "\n",
       "  clubInfocustomKit.kitThrdColor1 clubInfocustomKit.kitThrdColor2  \\\n",
       "0                        12706617                           33627   \n",
       "1                        12706617                           33627   \n",
       "2                        12706617                           33627   \n",
       "3                         9838384                         1841428   \n",
       "\n",
       "  clubInfocustomKit.kitThrdColor3 clubInfocustomKit.kitThrdColor4  \\\n",
       "0                          396864                         2164288   \n",
       "1                          396864                         2164288   \n",
       "2                          396864                         2164288   \n",
       "3                           22436                         2164288   \n",
       "\n",
       "  clubInfocustomKit.dCustomKit  clubInfocustomKit.crestColor  \\\n",
       "0                            0                            -1   \n",
       "1                            0                       1987272   \n",
       "2                            0                            -1   \n",
       "3                            0                      13574250   \n",
       "\n",
       "   clubInfocustomKit.crestAssetId  \n",
       "0                        99160329  \n",
       "1                        99160405  \n",
       "2                        99160504  \n",
       "3                        99161005  \n",
       "\n",
       "[4 rows x 45 columns]"
      ]
     },
     "execution_count": 19,
     "metadata": {},
     "output_type": "execute_result"
    }
   ],
   "source": [
    "club_search"
   ]
  },
  {
   "cell_type": "code",
   "execution_count": 22,
   "id": "cae03b23",
   "metadata": {},
   "outputs": [],
   "source": [
    "club = fc26.get_club_details(club_search.iat[2,0])"
   ]
  },
  {
   "cell_type": "code",
   "execution_count": 25,
   "id": "e4f3f8b0",
   "metadata": {},
   "outputs": [
    {
     "data": {
      "text/plain": [
       "{'stadName': 'MATRADE Loftus Road Stadium',\n",
       " 'kitId': '90112',\n",
       " 'seasonalTeamId': '131397',\n",
       " 'seasonalKitId': '1076404224',\n",
       " 'selectedKitType': '0',\n",
       " 'customKitId': '7509',\n",
       " 'customAwayKitId': '7509',\n",
       " 'customThirdKitId': '7511',\n",
       " 'customKeeperKitId': '5005',\n",
       " 'kitColor1': '15921906',\n",
       " 'kitColor2': '592397',\n",
       " 'kitColor3': '592397',\n",
       " 'kitColor4': '592397',\n",
       " 'kitAColor1': '592397',\n",
       " 'kitAColor2': '15921906',\n",
       " 'kitAColor3': '15921906',\n",
       " 'kitAColor4': '15921906',\n",
       " 'kitThrdColor1': '12706617',\n",
       " 'kitThrdColor2': '33627',\n",
       " 'kitThrdColor3': '396864',\n",
       " 'kitThrdColor4': '2164288',\n",
       " 'dCustomKit': '0',\n",
       " 'crestColor': '-1',\n",
       " 'crestAssetId': '99160504'}"
      ]
     },
     "execution_count": 25,
     "metadata": {},
     "output_type": "execute_result"
    }
   ],
   "source": [
    "club.iat[0,4]"
   ]
  }
 ],
 "metadata": {
  "kernelspec": {
   "display_name": "fc26-clubs-api (3.14.0)",
   "language": "python",
   "name": "python3"
  },
  "language_info": {
   "codemirror_mode": {
    "name": "ipython",
    "version": 3
   },
   "file_extension": ".py",
   "mimetype": "text/x-python",
   "name": "python",
   "nbconvert_exporter": "python",
   "pygments_lexer": "ipython3",
   "version": "3.14.0"
  }
 },
 "nbformat": 4,
 "nbformat_minor": 5
}
